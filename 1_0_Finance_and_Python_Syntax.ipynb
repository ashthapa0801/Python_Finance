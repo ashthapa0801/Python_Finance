{
  "nbformat": 4,
  "nbformat_minor": 0,
  "metadata": {
    "colab": {
      "provenance": []
    },
    "kernelspec": {
      "name": "python3",
      "display_name": "Python 3"
    },
    "language_info": {
      "name": "python"
    }
  },
  "cells": [
    {
      "cell_type": "markdown",
      "source": [
        "## Valuation of a European Call option by Monte Carlo Simulation.\n",
        "\n",
        "---\n",
        "\n"
      ],
      "metadata": {
        "id": "aQmzwK-DktFH"
      }
    },
    {
      "cell_type": "markdown",
      "source": [
        "* Black-Scholes-Merton (BSM)\n",
        "* Initial stock index level $S_0 = 100$\n",
        "* Strike price of the European call option $K = 105$\n",
        "* Time to maturity $T = 1$ year\n",
        "* Constant, riskless short rate $r = 0.05$\n",
        "* Constant volatility $σ = 0.2$"
      ],
      "metadata": {
        "id": "CoVEeV8ukJ0R"
      }
    },
    {
      "cell_type": "markdown",
      "source": [
        "### Equation 1-1. Black-Scholes-Merton (1973) index level at maturity:\n",
        "$$\n",
        "S_T = S_0 exp((r - \\frac{1}{2} σ \\sqrt{T}z)) \\tag{1.1}\n",
        "$$"
      ],
      "metadata": {
        "id": "UeBpehoClcaO"
      }
    },
    {
      "cell_type": "markdown",
      "source": [
        "### The following is an algorithmic description of the Monte Carlo valuation Procedure:\n",
        "* Draw $I$ pesudo-random numbers $z(i)$, $i \\in \\{ 1,2,...,I \\}$, from the standard normal distribution.\n",
        "* Calculate all resultiong index levels at maturity $S_T(i)$ for given $z(i)$ and Equation 1-1\n",
        "* Calculate all inner values of the option at maturity as $h_T (i) = max (S_T(i) - K, 0)$.\n",
        "* Estimate the option present value via the Monte Carlo estimator as given in Equation 1-2"
      ],
      "metadata": {
        "id": "qCrCi-1AlcUP"
      }
    },
    {
      "cell_type": "markdown",
      "source": [
        "### Equation 1-2. Monte Carlo estimator for European Options\n",
        "$$C_0 ≈ e^{rT} \\frac{1}{I} 𝚺_I h_T (i)$$"
      ],
      "metadata": {
        "id": "g1CQYMz6pJlc"
      }
    },
    {
      "cell_type": "markdown",
      "source": [
        "Translating the problem into python like so:"
      ],
      "metadata": {
        "id": "RLw_73HRplYu"
      }
    },
    {
      "cell_type": "code",
      "source": [
        "import math\n",
        "import numpy as np"
      ],
      "metadata": {
        "id": "EUr9uzGopJVN"
      },
      "execution_count": 1,
      "outputs": []
    },
    {
      "cell_type": "code",
      "source": [
        "# Initialise parameters\n",
        "S0 = 100\n",
        "K = 105\n",
        "T = 1.0\n",
        "r = 0.05\n",
        "sigma = 0.2"
      ],
      "metadata": {
        "id": "fi2tpaHEpwSZ"
      },
      "execution_count": 3,
      "outputs": []
    },
    {
      "cell_type": "code",
      "source": [
        "I = 100000\n",
        "np.random.seed(1000)"
      ],
      "metadata": {
        "id": "BNxRoQ0Hp_Ta"
      },
      "execution_count": 4,
      "outputs": []
    },
    {
      "cell_type": "code",
      "source": [
        "z = np.random.standard_normal(I)"
      ],
      "metadata": {
        "id": "ir9-FyUCqIah"
      },
      "execution_count": 6,
      "outputs": []
    },
    {
      "cell_type": "code",
      "source": [
        "# Equation 1-1\n",
        "ST = S0 * np.exp(r - (1/2) * math.pow(sigma, 2) * T + sigma * math.sqrt(T) * z)"
      ],
      "metadata": {
        "id": "XN-n2A6fqWeq"
      },
      "execution_count": 8,
      "outputs": []
    },
    {
      "cell_type": "code",
      "source": [
        "# Equation 1-2\n",
        "hT = np.max(ST - K, 0)"
      ],
      "metadata": {
        "id": "wic8maDAr48x"
      },
      "execution_count": 9,
      "outputs": []
    },
    {
      "cell_type": "code",
      "source": [
        "C0 = math.exp(-r * T) * np.mean(hT)"
      ],
      "metadata": {
        "id": "6oDKX4acsZXf"
      },
      "execution_count": 10,
      "outputs": []
    },
    {
      "cell_type": "code",
      "source": [
        "print('Value of the European call option: {:5.3f}.'.format(C0))"
      ],
      "metadata": {
        "colab": {
          "base_uri": "https://localhost:8080/"
        },
        "id": "q057FcfNshW_",
        "outputId": "f612fac1-4409-4dbd-bf08-d100bc19e1c5"
      },
      "execution_count": 17,
      "outputs": [
        {
          "output_type": "stream",
          "name": "stdout",
          "text": [
            "Value of the European call option: 114.695.\n"
          ]
        }
      ]
    }
  ]
}