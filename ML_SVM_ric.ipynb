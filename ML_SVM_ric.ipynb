{
  "nbformat": 4,
  "nbformat_minor": 0,
  "metadata": {
    "colab": {
      "provenance": [],
      "toc_visible": true
    },
    "kernelspec": {
      "name": "python3",
      "display_name": "Python 3"
    },
    "language_info": {
      "name": "python"
    }
  },
  "cells": [
    {
      "cell_type": "code",
      "execution_count": 171,
      "metadata": {
        "id": "PI8sWCwFgiHw"
      },
      "outputs": [],
      "source": [
        "import numpy as np\n",
        "import pandas as pd\n",
        "import yfinance as yf"
      ]
    },
    {
      "cell_type": "code",
      "source": [
        "import matplotlib.pyplot as plt\n",
        "plt.style.use(\"seaborn\")"
      ],
      "metadata": {
        "colab": {
          "base_uri": "https://localhost:8080/"
        },
        "id": "_0EmOSoakbUn",
        "outputId": "ae41263d-c7bf-4b20-e39c-00a0843b3ece"
      },
      "execution_count": 172,
      "outputs": [
        {
          "output_type": "stream",
          "name": "stderr",
          "text": [
            "<ipython-input-172-222f5fd5c04b>:2: MatplotlibDeprecationWarning:\n",
            "\n",
            "The seaborn styles shipped by Matplotlib are deprecated since 3.6, as they no longer correspond to the styles shipped by seaborn. However, they will remain available as 'seaborn-v0_8-<style>'. Alternatively, directly use the seaborn API instead.\n",
            "\n"
          ]
        }
      ]
    },
    {
      "cell_type": "code",
      "source": [
        "data = yf.download([\"AAPL\"],start = \"2023-03-26\", end = \"2023-04-01\", interval='1m')\n",
        "print(type(data))"
      ],
      "metadata": {
        "colab": {
          "base_uri": "https://localhost:8080/"
        },
        "id": "Qu_depTZLSpq",
        "outputId": "52ece535-ec0b-4f48-b8cb-cca38073026d"
      },
      "execution_count": 173,
      "outputs": [
        {
          "output_type": "stream",
          "name": "stdout",
          "text": [
            "\r[*********************100%***********************]  1 of 1 completed\n",
            "<class 'pandas.core.frame.DataFrame'>\n"
          ]
        }
      ]
    },
    {
      "cell_type": "code",
      "source": [
        "data.dropna(inplace=True)  # deletes tows with NaN values"
      ],
      "metadata": {
        "id": "_CGOqByn3lLc"
      },
      "execution_count": 174,
      "outputs": []
    },
    {
      "cell_type": "code",
      "source": [
        "data.head()"
      ],
      "metadata": {
        "colab": {
          "base_uri": "https://localhost:8080/",
          "height": 237
        },
        "id": "8NNlouXX6jwx",
        "outputId": "7a05c899-e8b5-4826-9f0f-e9f3da3368cf"
      },
      "execution_count": 175,
      "outputs": [
        {
          "output_type": "execute_result",
          "data": {
            "text/plain": [
              "                                 Open        High         Low       Close  \\\n",
              "Datetime                                                                    \n",
              "2023-03-27 09:30:00-04:00  159.940002  160.190002  159.899994  160.130005   \n",
              "2023-03-27 09:31:00-04:00  160.100006  160.154999  159.839996  159.960007   \n",
              "2023-03-27 09:32:00-04:00  159.960007  160.160004  159.839996  160.020004   \n",
              "2023-03-27 09:33:00-04:00  159.994995  160.319000  159.910004  160.000000   \n",
              "2023-03-27 09:34:00-04:00  159.981903  160.020004  159.649994  159.720001   \n",
              "\n",
              "                            Adj Close   Volume  \n",
              "Datetime                                        \n",
              "2023-03-27 09:30:00-04:00  160.130005  1947970  \n",
              "2023-03-27 09:31:00-04:00  159.960007   206247  \n",
              "2023-03-27 09:32:00-04:00  160.020004   211444  \n",
              "2023-03-27 09:33:00-04:00  160.000000   285796  \n",
              "2023-03-27 09:34:00-04:00  159.720001   259715  "
            ],
            "text/html": [
              "\n",
              "  <div id=\"df-b25fc642-3d1e-4d69-aa45-c0ddd8baf940\">\n",
              "    <div class=\"colab-df-container\">\n",
              "      <div>\n",
              "<style scoped>\n",
              "    .dataframe tbody tr th:only-of-type {\n",
              "        vertical-align: middle;\n",
              "    }\n",
              "\n",
              "    .dataframe tbody tr th {\n",
              "        vertical-align: top;\n",
              "    }\n",
              "\n",
              "    .dataframe thead th {\n",
              "        text-align: right;\n",
              "    }\n",
              "</style>\n",
              "<table border=\"1\" class=\"dataframe\">\n",
              "  <thead>\n",
              "    <tr style=\"text-align: right;\">\n",
              "      <th></th>\n",
              "      <th>Open</th>\n",
              "      <th>High</th>\n",
              "      <th>Low</th>\n",
              "      <th>Close</th>\n",
              "      <th>Adj Close</th>\n",
              "      <th>Volume</th>\n",
              "    </tr>\n",
              "    <tr>\n",
              "      <th>Datetime</th>\n",
              "      <th></th>\n",
              "      <th></th>\n",
              "      <th></th>\n",
              "      <th></th>\n",
              "      <th></th>\n",
              "      <th></th>\n",
              "    </tr>\n",
              "  </thead>\n",
              "  <tbody>\n",
              "    <tr>\n",
              "      <th>2023-03-27 09:30:00-04:00</th>\n",
              "      <td>159.940002</td>\n",
              "      <td>160.190002</td>\n",
              "      <td>159.899994</td>\n",
              "      <td>160.130005</td>\n",
              "      <td>160.130005</td>\n",
              "      <td>1947970</td>\n",
              "    </tr>\n",
              "    <tr>\n",
              "      <th>2023-03-27 09:31:00-04:00</th>\n",
              "      <td>160.100006</td>\n",
              "      <td>160.154999</td>\n",
              "      <td>159.839996</td>\n",
              "      <td>159.960007</td>\n",
              "      <td>159.960007</td>\n",
              "      <td>206247</td>\n",
              "    </tr>\n",
              "    <tr>\n",
              "      <th>2023-03-27 09:32:00-04:00</th>\n",
              "      <td>159.960007</td>\n",
              "      <td>160.160004</td>\n",
              "      <td>159.839996</td>\n",
              "      <td>160.020004</td>\n",
              "      <td>160.020004</td>\n",
              "      <td>211444</td>\n",
              "    </tr>\n",
              "    <tr>\n",
              "      <th>2023-03-27 09:33:00-04:00</th>\n",
              "      <td>159.994995</td>\n",
              "      <td>160.319000</td>\n",
              "      <td>159.910004</td>\n",
              "      <td>160.000000</td>\n",
              "      <td>160.000000</td>\n",
              "      <td>285796</td>\n",
              "    </tr>\n",
              "    <tr>\n",
              "      <th>2023-03-27 09:34:00-04:00</th>\n",
              "      <td>159.981903</td>\n",
              "      <td>160.020004</td>\n",
              "      <td>159.649994</td>\n",
              "      <td>159.720001</td>\n",
              "      <td>159.720001</td>\n",
              "      <td>259715</td>\n",
              "    </tr>\n",
              "  </tbody>\n",
              "</table>\n",
              "</div>\n",
              "      <button class=\"colab-df-convert\" onclick=\"convertToInteractive('df-b25fc642-3d1e-4d69-aa45-c0ddd8baf940')\"\n",
              "              title=\"Convert this dataframe to an interactive table.\"\n",
              "              style=\"display:none;\">\n",
              "        \n",
              "  <svg xmlns=\"http://www.w3.org/2000/svg\" height=\"24px\"viewBox=\"0 0 24 24\"\n",
              "       width=\"24px\">\n",
              "    <path d=\"M0 0h24v24H0V0z\" fill=\"none\"/>\n",
              "    <path d=\"M18.56 5.44l.94 2.06.94-2.06 2.06-.94-2.06-.94-.94-2.06-.94 2.06-2.06.94zm-11 1L8.5 8.5l.94-2.06 2.06-.94-2.06-.94L8.5 2.5l-.94 2.06-2.06.94zm10 10l.94 2.06.94-2.06 2.06-.94-2.06-.94-.94-2.06-.94 2.06-2.06.94z\"/><path d=\"M17.41 7.96l-1.37-1.37c-.4-.4-.92-.59-1.43-.59-.52 0-1.04.2-1.43.59L10.3 9.45l-7.72 7.72c-.78.78-.78 2.05 0 2.83L4 21.41c.39.39.9.59 1.41.59.51 0 1.02-.2 1.41-.59l7.78-7.78 2.81-2.81c.8-.78.8-2.07 0-2.86zM5.41 20L4 18.59l7.72-7.72 1.47 1.35L5.41 20z\"/>\n",
              "  </svg>\n",
              "      </button>\n",
              "      \n",
              "  <style>\n",
              "    .colab-df-container {\n",
              "      display:flex;\n",
              "      flex-wrap:wrap;\n",
              "      gap: 12px;\n",
              "    }\n",
              "\n",
              "    .colab-df-convert {\n",
              "      background-color: #E8F0FE;\n",
              "      border: none;\n",
              "      border-radius: 50%;\n",
              "      cursor: pointer;\n",
              "      display: none;\n",
              "      fill: #1967D2;\n",
              "      height: 32px;\n",
              "      padding: 0 0 0 0;\n",
              "      width: 32px;\n",
              "    }\n",
              "\n",
              "    .colab-df-convert:hover {\n",
              "      background-color: #E2EBFA;\n",
              "      box-shadow: 0px 1px 2px rgba(60, 64, 67, 0.3), 0px 1px 3px 1px rgba(60, 64, 67, 0.15);\n",
              "      fill: #174EA6;\n",
              "    }\n",
              "\n",
              "    [theme=dark] .colab-df-convert {\n",
              "      background-color: #3B4455;\n",
              "      fill: #D2E3FC;\n",
              "    }\n",
              "\n",
              "    [theme=dark] .colab-df-convert:hover {\n",
              "      background-color: #434B5C;\n",
              "      box-shadow: 0px 1px 3px 1px rgba(0, 0, 0, 0.15);\n",
              "      filter: drop-shadow(0px 1px 2px rgba(0, 0, 0, 0.3));\n",
              "      fill: #FFFFFF;\n",
              "    }\n",
              "  </style>\n",
              "\n",
              "      <script>\n",
              "        const buttonEl =\n",
              "          document.querySelector('#df-b25fc642-3d1e-4d69-aa45-c0ddd8baf940 button.colab-df-convert');\n",
              "        buttonEl.style.display =\n",
              "          google.colab.kernel.accessAllowed ? 'block' : 'none';\n",
              "\n",
              "        async function convertToInteractive(key) {\n",
              "          const element = document.querySelector('#df-b25fc642-3d1e-4d69-aa45-c0ddd8baf940');\n",
              "          const dataTable =\n",
              "            await google.colab.kernel.invokeFunction('convertToInteractive',\n",
              "                                                     [key], {});\n",
              "          if (!dataTable) return;\n",
              "\n",
              "          const docLinkHtml = 'Like what you see? Visit the ' +\n",
              "            '<a target=\"_blank\" href=https://colab.research.google.com/notebooks/data_table.ipynb>data table notebook</a>'\n",
              "            + ' to learn more about interactive tables.';\n",
              "          element.innerHTML = '';\n",
              "          dataTable['output_type'] = 'display_data';\n",
              "          await google.colab.output.renderOutput(dataTable, element);\n",
              "          const docLink = document.createElement('div');\n",
              "          docLink.innerHTML = docLinkHtml;\n",
              "          element.appendChild(docLink);\n",
              "        }\n",
              "      </script>\n",
              "    </div>\n",
              "  </div>\n",
              "  "
            ]
          },
          "metadata": {},
          "execution_count": 175
        }
      ]
    },
    {
      "cell_type": "code",
      "source": [
        "data.describe() # Statistical info about stocks"
      ],
      "metadata": {
        "colab": {
          "base_uri": "https://localhost:8080/",
          "height": 300
        },
        "id": "0tsxPdpTlYj2",
        "outputId": "53fabc6e-5905-4452-f3ac-a51a92b78dc5"
      },
      "execution_count": 176,
      "outputs": [
        {
          "output_type": "execute_result",
          "data": {
            "text/plain": [
              "              Open         High          Low        Close    Adj Close  \\\n",
              "count  1948.000000  1948.000000  1948.000000  1948.000000  1948.000000   \n",
              "mean    160.278407   160.329950   160.225947   160.278953   160.278953   \n",
              "std       2.418317     2.416804     2.421201     2.421092     2.421092   \n",
              "min     156.029907   156.050003   155.979996   156.029999   156.029999   \n",
              "25%     158.419998   158.479996   158.369995   158.425003   158.425003   \n",
              "50%     160.130005   160.190002   160.072502   160.130005   160.130005   \n",
              "75%     162.139999   162.169998   162.095001   162.136246   162.136246   \n",
              "max     164.940002   165.000000   164.891800   164.943893   164.943893   \n",
              "\n",
              "             Volume  \n",
              "count  1.948000e+03  \n",
              "mean   1.118124e+05  \n",
              "std    1.251025e+05  \n",
              "min    2.589800e+04  \n",
              "25%    6.177200e+04  \n",
              "50%    8.413250e+04  \n",
              "75%    1.236320e+05  \n",
              "max    2.330398e+06  "
            ],
            "text/html": [
              "\n",
              "  <div id=\"df-0bb452af-8c28-47ef-8d6f-52a7c45559e0\">\n",
              "    <div class=\"colab-df-container\">\n",
              "      <div>\n",
              "<style scoped>\n",
              "    .dataframe tbody tr th:only-of-type {\n",
              "        vertical-align: middle;\n",
              "    }\n",
              "\n",
              "    .dataframe tbody tr th {\n",
              "        vertical-align: top;\n",
              "    }\n",
              "\n",
              "    .dataframe thead th {\n",
              "        text-align: right;\n",
              "    }\n",
              "</style>\n",
              "<table border=\"1\" class=\"dataframe\">\n",
              "  <thead>\n",
              "    <tr style=\"text-align: right;\">\n",
              "      <th></th>\n",
              "      <th>Open</th>\n",
              "      <th>High</th>\n",
              "      <th>Low</th>\n",
              "      <th>Close</th>\n",
              "      <th>Adj Close</th>\n",
              "      <th>Volume</th>\n",
              "    </tr>\n",
              "  </thead>\n",
              "  <tbody>\n",
              "    <tr>\n",
              "      <th>count</th>\n",
              "      <td>1948.000000</td>\n",
              "      <td>1948.000000</td>\n",
              "      <td>1948.000000</td>\n",
              "      <td>1948.000000</td>\n",
              "      <td>1948.000000</td>\n",
              "      <td>1.948000e+03</td>\n",
              "    </tr>\n",
              "    <tr>\n",
              "      <th>mean</th>\n",
              "      <td>160.278407</td>\n",
              "      <td>160.329950</td>\n",
              "      <td>160.225947</td>\n",
              "      <td>160.278953</td>\n",
              "      <td>160.278953</td>\n",
              "      <td>1.118124e+05</td>\n",
              "    </tr>\n",
              "    <tr>\n",
              "      <th>std</th>\n",
              "      <td>2.418317</td>\n",
              "      <td>2.416804</td>\n",
              "      <td>2.421201</td>\n",
              "      <td>2.421092</td>\n",
              "      <td>2.421092</td>\n",
              "      <td>1.251025e+05</td>\n",
              "    </tr>\n",
              "    <tr>\n",
              "      <th>min</th>\n",
              "      <td>156.029907</td>\n",
              "      <td>156.050003</td>\n",
              "      <td>155.979996</td>\n",
              "      <td>156.029999</td>\n",
              "      <td>156.029999</td>\n",
              "      <td>2.589800e+04</td>\n",
              "    </tr>\n",
              "    <tr>\n",
              "      <th>25%</th>\n",
              "      <td>158.419998</td>\n",
              "      <td>158.479996</td>\n",
              "      <td>158.369995</td>\n",
              "      <td>158.425003</td>\n",
              "      <td>158.425003</td>\n",
              "      <td>6.177200e+04</td>\n",
              "    </tr>\n",
              "    <tr>\n",
              "      <th>50%</th>\n",
              "      <td>160.130005</td>\n",
              "      <td>160.190002</td>\n",
              "      <td>160.072502</td>\n",
              "      <td>160.130005</td>\n",
              "      <td>160.130005</td>\n",
              "      <td>8.413250e+04</td>\n",
              "    </tr>\n",
              "    <tr>\n",
              "      <th>75%</th>\n",
              "      <td>162.139999</td>\n",
              "      <td>162.169998</td>\n",
              "      <td>162.095001</td>\n",
              "      <td>162.136246</td>\n",
              "      <td>162.136246</td>\n",
              "      <td>1.236320e+05</td>\n",
              "    </tr>\n",
              "    <tr>\n",
              "      <th>max</th>\n",
              "      <td>164.940002</td>\n",
              "      <td>165.000000</td>\n",
              "      <td>164.891800</td>\n",
              "      <td>164.943893</td>\n",
              "      <td>164.943893</td>\n",
              "      <td>2.330398e+06</td>\n",
              "    </tr>\n",
              "  </tbody>\n",
              "</table>\n",
              "</div>\n",
              "      <button class=\"colab-df-convert\" onclick=\"convertToInteractive('df-0bb452af-8c28-47ef-8d6f-52a7c45559e0')\"\n",
              "              title=\"Convert this dataframe to an interactive table.\"\n",
              "              style=\"display:none;\">\n",
              "        \n",
              "  <svg xmlns=\"http://www.w3.org/2000/svg\" height=\"24px\"viewBox=\"0 0 24 24\"\n",
              "       width=\"24px\">\n",
              "    <path d=\"M0 0h24v24H0V0z\" fill=\"none\"/>\n",
              "    <path d=\"M18.56 5.44l.94 2.06.94-2.06 2.06-.94-2.06-.94-.94-2.06-.94 2.06-2.06.94zm-11 1L8.5 8.5l.94-2.06 2.06-.94-2.06-.94L8.5 2.5l-.94 2.06-2.06.94zm10 10l.94 2.06.94-2.06 2.06-.94-2.06-.94-.94-2.06-.94 2.06-2.06.94z\"/><path d=\"M17.41 7.96l-1.37-1.37c-.4-.4-.92-.59-1.43-.59-.52 0-1.04.2-1.43.59L10.3 9.45l-7.72 7.72c-.78.78-.78 2.05 0 2.83L4 21.41c.39.39.9.59 1.41.59.51 0 1.02-.2 1.41-.59l7.78-7.78 2.81-2.81c.8-.78.8-2.07 0-2.86zM5.41 20L4 18.59l7.72-7.72 1.47 1.35L5.41 20z\"/>\n",
              "  </svg>\n",
              "      </button>\n",
              "      \n",
              "  <style>\n",
              "    .colab-df-container {\n",
              "      display:flex;\n",
              "      flex-wrap:wrap;\n",
              "      gap: 12px;\n",
              "    }\n",
              "\n",
              "    .colab-df-convert {\n",
              "      background-color: #E8F0FE;\n",
              "      border: none;\n",
              "      border-radius: 50%;\n",
              "      cursor: pointer;\n",
              "      display: none;\n",
              "      fill: #1967D2;\n",
              "      height: 32px;\n",
              "      padding: 0 0 0 0;\n",
              "      width: 32px;\n",
              "    }\n",
              "\n",
              "    .colab-df-convert:hover {\n",
              "      background-color: #E2EBFA;\n",
              "      box-shadow: 0px 1px 2px rgba(60, 64, 67, 0.3), 0px 1px 3px 1px rgba(60, 64, 67, 0.15);\n",
              "      fill: #174EA6;\n",
              "    }\n",
              "\n",
              "    [theme=dark] .colab-df-convert {\n",
              "      background-color: #3B4455;\n",
              "      fill: #D2E3FC;\n",
              "    }\n",
              "\n",
              "    [theme=dark] .colab-df-convert:hover {\n",
              "      background-color: #434B5C;\n",
              "      box-shadow: 0px 1px 3px 1px rgba(0, 0, 0, 0.15);\n",
              "      filter: drop-shadow(0px 1px 2px rgba(0, 0, 0, 0.3));\n",
              "      fill: #FFFFFF;\n",
              "    }\n",
              "  </style>\n",
              "\n",
              "      <script>\n",
              "        const buttonEl =\n",
              "          document.querySelector('#df-0bb452af-8c28-47ef-8d6f-52a7c45559e0 button.colab-df-convert');\n",
              "        buttonEl.style.display =\n",
              "          google.colab.kernel.accessAllowed ? 'block' : 'none';\n",
              "\n",
              "        async function convertToInteractive(key) {\n",
              "          const element = document.querySelector('#df-0bb452af-8c28-47ef-8d6f-52a7c45559e0');\n",
              "          const dataTable =\n",
              "            await google.colab.kernel.invokeFunction('convertToInteractive',\n",
              "                                                     [key], {});\n",
              "          if (!dataTable) return;\n",
              "\n",
              "          const docLinkHtml = 'Like what you see? Visit the ' +\n",
              "            '<a target=\"_blank\" href=https://colab.research.google.com/notebooks/data_table.ipynb>data table notebook</a>'\n",
              "            + ' to learn more about interactive tables.';\n",
              "          element.innerHTML = '';\n",
              "          dataTable['output_type'] = 'display_data';\n",
              "          await google.colab.output.renderOutput(dataTable, element);\n",
              "          const docLink = document.createElement('div');\n",
              "          docLink.innerHTML = docLinkHtml;\n",
              "          element.appendChild(docLink);\n",
              "        }\n",
              "      </script>\n",
              "    </div>\n",
              "  </div>\n",
              "  "
            ]
          },
          "metadata": {},
          "execution_count": 176
        }
      ]
    },
    {
      "cell_type": "code",
      "source": [
        "close = data.loc[:, \"Close\"].copy()       # Recieve Close prices stocks"
      ],
      "metadata": {
        "id": "UMt69307lcZm"
      },
      "execution_count": 177,
      "outputs": []
    },
    {
      "cell_type": "code",
      "source": [
        "close"
      ],
      "metadata": {
        "colab": {
          "base_uri": "https://localhost:8080/"
        },
        "id": "jm9U1S7xln_2",
        "outputId": "91f2c079-dbca-4960-d401-211af3108d56"
      },
      "execution_count": 178,
      "outputs": [
        {
          "output_type": "execute_result",
          "data": {
            "text/plain": [
              "Datetime\n",
              "2023-03-27 09:30:00-04:00    160.130005\n",
              "2023-03-27 09:31:00-04:00    159.960007\n",
              "2023-03-27 09:32:00-04:00    160.020004\n",
              "2023-03-27 09:33:00-04:00    160.000000\n",
              "2023-03-27 09:34:00-04:00    159.720001\n",
              "                                ...    \n",
              "2023-03-31 15:55:00-04:00    164.919998\n",
              "2023-03-31 15:56:00-04:00    164.934998\n",
              "2023-03-31 15:57:00-04:00    164.889999\n",
              "2023-03-31 15:58:00-04:00    164.940002\n",
              "2023-03-31 15:59:00-04:00    164.839996\n",
              "Name: Close, Length: 1948, dtype: float64"
            ]
          },
          "metadata": {},
          "execution_count": 178
        }
      ]
    },
    {
      "cell_type": "markdown",
      "source": [
        "Log Returns:"
      ],
      "metadata": {
        "id": "dxHG5JbV1SXn"
      }
    },
    {
      "cell_type": "code",
      "source": [
        "# Calculates the log returns over the stated time interval\n",
        "rets = np.log(data / data.shift()) \n",
        "rets.dropna(inplace=True)"
      ],
      "metadata": {
        "id": "Z-gnpHTZm_xX"
      },
      "execution_count": 179,
      "outputs": []
    },
    {
      "cell_type": "code",
      "source": [
        "rets['Close'].head()"
      ],
      "metadata": {
        "colab": {
          "base_uri": "https://localhost:8080/"
        },
        "id": "ouwIlIgc3Lus",
        "outputId": "eeae6674-d91c-41dd-a2f4-607cd9889fc2"
      },
      "execution_count": 180,
      "outputs": [
        {
          "output_type": "execute_result",
          "data": {
            "text/plain": [
              "Datetime\n",
              "2023-03-27 09:31:00-04:00   -0.001062\n",
              "2023-03-27 09:32:00-04:00    0.000375\n",
              "2023-03-27 09:33:00-04:00   -0.000125\n",
              "2023-03-27 09:34:00-04:00   -0.001752\n",
              "2023-03-27 09:35:00-04:00   -0.000877\n",
              "Name: Close, dtype: float64"
            ]
          },
          "metadata": {},
          "execution_count": 180
        }
      ]
    },
    {
      "cell_type": "markdown",
      "source": [
        "Plotting retrun data:"
      ],
      "metadata": {
        "id": "eVPJMwK14p6d"
      }
    },
    {
      "cell_type": "code",
      "source": [
        "import cufflinks as cf  # Cufflinks\n",
        "import configparser as cp\n",
        "import matplotlib.patches as mpatches\n",
        "import matplotlib.pyplot as plt\n",
        "from sklearn import preprocessing\n",
        "import plotly\n",
        "import plotly.express as px"
      ],
      "metadata": {
        "id": "f129ajU84tjD"
      },
      "execution_count": 181,
      "outputs": []
    },
    {
      "cell_type": "code",
      "source": [
        "cf.set_config_file(offline=True)     # set the plotting mode to offline"
      ],
      "metadata": {
        "colab": {
          "base_uri": "https://localhost:8080/",
          "height": 17
        },
        "id": "38naDjaJpGst",
        "outputId": "f8f324b8-c529-4c5e-d754-ca035b8ce527"
      },
      "execution_count": 182,
      "outputs": [
        {
          "output_type": "display_data",
          "data": {
            "text/html": [
              "        <script type=\"text/javascript\">\n",
              "        window.PlotlyConfig = {MathJaxConfig: 'local'};\n",
              "        if (window.MathJax && window.MathJax.Hub && window.MathJax.Hub.Config) {window.MathJax.Hub.Config({SVG: {font: \"STIX-Web\"}});}\n",
              "        if (typeof require !== 'undefined') {\n",
              "        require.undef(\"plotly\");\n",
              "        requirejs.config({\n",
              "            paths: {\n",
              "                'plotly': ['https://cdn.plot.ly/plotly-2.18.2.min']\n",
              "            }\n",
              "        });\n",
              "        require(['plotly'], function(Plotly) {\n",
              "            window._Plotly = Plotly;\n",
              "        });\n",
              "        }\n",
              "        </script>\n",
              "        "
            ]
          },
          "metadata": {}
        }
      ]
    },
    {
      "cell_type": "code",
      "source": [
        "norm = close.normalize()\n",
        "norm"
      ],
      "metadata": {
        "colab": {
          "base_uri": "https://localhost:8080/"
        },
        "id": "CXGKU56owPt1",
        "outputId": "823ebf89-66d6-4470-8a59-8b86f4e0e153"
      },
      "execution_count": 183,
      "outputs": [
        {
          "output_type": "execute_result",
          "data": {
            "text/plain": [
              "Datetime\n",
              "2023-03-27 09:30:00-04:00    100.000000\n",
              "2023-03-27 09:31:00-04:00     99.893837\n",
              "2023-03-27 09:32:00-04:00     99.931305\n",
              "2023-03-27 09:33:00-04:00     99.918813\n",
              "2023-03-27 09:34:00-04:00     99.743956\n",
              "                                ...    \n",
              "2023-03-31 15:55:00-04:00    102.991315\n",
              "2023-03-31 15:56:00-04:00    103.000682\n",
              "2023-03-31 15:57:00-04:00    102.972581\n",
              "2023-03-31 15:58:00-04:00    103.003808\n",
              "2023-03-31 15:59:00-04:00    102.941355\n",
              "Name: Close, Length: 1948, dtype: float64"
            ]
          },
          "metadata": {},
          "execution_count": 183
        }
      ]
    },
    {
      "cell_type": "code",
      "source": [
        "norm.plot(figsize = (12,8), fontsize= 15)\n",
        "plt.legend(loc = \"upper left\", fontsize = 15)"
      ],
      "metadata": {
        "colab": {
          "base_uri": "https://localhost:8080/",
          "height": 685
        },
        "id": "lcOuYcWYnSbU",
        "outputId": "52b39bc1-054e-4509-83a4-89ad775f32e4"
      },
      "execution_count": 184,
      "outputs": [
        {
          "output_type": "execute_result",
          "data": {
            "text/plain": [
              "<matplotlib.legend.Legend at 0x7f3fe4db8790>"
            ]
          },
          "metadata": {},
          "execution_count": 184
        },
        {
          "output_type": "display_data",
          "data": {
            "text/plain": [
              "<Figure size 1200x800 with 1 Axes>"
            ],
            "image/png": "[encoded data removed]"
          },
          "metadata": {}
        }
      ]
    },
    {
      "cell_type": "code",
      "source": [
        "import seaborn as sns\n",
        "sns.displot(rets['Close'], bins=50, kde=True);"
      ],
      "metadata": {
        "colab": {
          "base_uri": "https://localhost:8080/",
          "height": 506
        },
        "id": "jGbCXRJm1Dvw",
        "outputId": "971e4fe7-4f0b-4902-e2df-ff84dfe44cbc"
      },
      "execution_count": 185,
      "outputs": [
        {
          "output_type": "display_data",
          "data": {
            "text/plain": [
              "<Figure size 500x500 with 1 Axes>"
            ],
            "image/png": "[encoded data removed]"
          },
          "metadata": {}
        }
      ]
    },
    {
      "cell_type": "code",
      "source": [
        "plt.hist(rets['Close'], density=True, bins=50)"
      ],
      "metadata": {
        "colab": {
          "base_uri": "https://localhost:8080/",
          "height": 953
        },
        "id": "KVGRpcQy-NN_",
        "outputId": "c6050267-9102-465a-c84a-9323a7f48306"
      },
      "execution_count": 186,
      "outputs": [
        {
          "output_type": "execute_result",
          "data": {
            "text/plain": [
              "(array([   1.68284522,    1.68284522,    5.04853567,   15.14560702,\n",
              "          38.70544016,  116.11632047,  466.14812711,  827.95985033,\n",
              "        1063.55818172,  518.31632907,  153.13891541,   47.11966628,\n",
              "          10.09707135,    5.04853567,    1.68284522,    0.        ,\n",
              "           1.68284522,    0.        ,    0.        ,    0.        ,\n",
              "           0.        ,    0.        ,    0.        ,    0.        ,\n",
              "           0.        ,    0.        ,    1.68284522,    0.        ,\n",
              "           0.        ,    0.        ,    0.        ,    0.        ,\n",
              "           0.        ,    0.        ,    0.        ,    0.        ,\n",
              "           0.        ,    0.        ,    0.        ,    0.        ,\n",
              "           0.        ,    0.        ,    0.        ,    0.        ,\n",
              "           0.        ,    0.        ,    0.        ,    0.        ,\n",
              "           0.        ,    1.68284522]),\n",
              " array([-2.46671250e-03, -2.16150874e-03, -1.85630498e-03, -1.55110123e-03,\n",
              "        -1.24589747e-03, -9.40693716e-04, -6.35489960e-04, -3.30286204e-04,\n",
              "        -2.50824481e-05,  2.80121308e-04,  5.85325064e-04,  8.90528820e-04,\n",
              "         1.19573258e-03,  1.50093633e-03,  1.80614009e-03,  2.11134384e-03,\n",
              "         2.41654760e-03,  2.72175136e-03,  3.02695511e-03,  3.33215887e-03,\n",
              "         3.63736262e-03,  3.94256638e-03,  4.24777014e-03,  4.55297389e-03,\n",
              "         4.85817765e-03,  5.16338140e-03,  5.46858516e-03,  5.77378891e-03,\n",
              "         6.07899267e-03,  6.38419643e-03,  6.68940018e-03,  6.99460394e-03,\n",
              "         7.29980769e-03,  7.60501145e-03,  7.91021521e-03,  8.21541896e-03,\n",
              "         8.52062272e-03,  8.82582647e-03,  9.13103023e-03,  9.43623399e-03,\n",
              "         9.74143774e-03,  1.00466415e-02,  1.03518453e-02,  1.06570490e-02,\n",
              "         1.09622528e-02,  1.12674565e-02,  1.15726603e-02,  1.18778640e-02,\n",
              "         1.21830678e-02,  1.24882715e-02,  1.27934753e-02]),\n",
              " <BarContainer object of 50 artists>)"
            ]
          },
          "metadata": {},
          "execution_count": 186
        },
        {
          "output_type": "display_data",
          "data": {
            "text/plain": [
              "<Figure size 800x550 with 1 Axes>"
            ],
            "image/png": "[encoded data removed]"
          },
          "metadata": {}
        }
      ]
    },
    {
      "cell_type": "markdown",
      "source": [
        "Preparing Lagged data:"
      ],
      "metadata": {
        "id": "RjX53wjZ4uFM"
      }
    },
    {
      "cell_type": "markdown",
      "source": [
        "To gain insights into whether the **random walk hypothesis** holds true, we work with six lags. The code that follows derives the lagged data for every single RIC. First, a function that adds columns with lagged data to a DataFrame object."
      ],
      "metadata": {
        "id": "ImDNEROj3ZV1"
      }
    },
    {
      "cell_type": "code",
      "source": [
        "def add_lags(data, ric, lags):\n",
        "    cols = []\n",
        "    df = pd.DataFrame(rets[ric])\n",
        "    for lag in range(1, lags + 1):\n",
        "        col = 'lag_{}'.format(lag)  # defines the column name\n",
        "        # creates the lagged data column\n",
        "        df[col] = np.digitize(df[ric].shift(lag), bins=[0])\n",
        "        cols.append(col)  # stores the column name\n",
        "    df.dropna(inplace=True)  # gets rid of incomplete data rows\n",
        "    return df, cols"
      ],
      "metadata": {
        "id": "c9mYKmDpn61r"
      },
      "execution_count": 187,
      "outputs": []
    },
    {
      "cell_type": "markdown",
      "source": [
        "Second, the iterations over all RICs (just one stock, 'AAPL' for this example), using the add_lags function and storing the resulting DataFrame objects in a dictionary."
      ],
      "metadata": {
        "id": "zu04q-9j3l4P"
      }
    },
    {
      "cell_type": "code",
      "source": [
        "lags = 6    # five historical lags"
      ],
      "metadata": {
        "id": "r9eA0G9I3ln1"
      },
      "execution_count": 188,
      "outputs": []
    },
    {
      "cell_type": "code",
      "source": [
        "cols = []\n",
        "for lag in range(1, lags + 1):\n",
        "  col = 'lag_{}'.format(lag)\n",
        "  rets[col] = np.sign(rets['Close'].shift(lag))\n",
        "  cols.append(col)\n",
        "rets.dropna(inplace=True)"
      ],
      "metadata": {
        "id": "-GtNj0BH3xE2"
      },
      "execution_count": 189,
      "outputs": []
    },
    {
      "cell_type": "markdown",
      "source": [
        "See link: https://hilpisch.com/tr_eikon_machine_learning.html, to implement multiple stocks as this example is just for one."
      ],
      "metadata": {
        "id": "Amll2dOV6KKc"
      }
    },
    {
      "cell_type": "code",
      "source": [
        "rets.head(7)"
      ],
      "metadata": {
        "colab": {
          "base_uri": "https://localhost:8080/",
          "height": 300
        },
        "id": "7H6KEOpsi1hR",
        "outputId": "a6a2fde0-4797-4449-ebf0-6da535047c5c"
      },
      "execution_count": 190,
      "outputs": [
        {
          "output_type": "execute_result",
          "data": {
            "text/plain": [
              "                               Open      High       Low     Close  Adj Close  \\\n",
              "Datetime                                                                       \n",
              "2023-03-27 09:37:00-04:00  0.001127  0.000813  0.001128 -0.000438  -0.000438   \n",
              "2023-03-27 09:38:00-04:00 -0.000377 -0.000897 -0.000031  0.000313   0.000313   \n",
              "2023-03-27 09:39:00-04:00  0.000220 -0.000229 -0.001034 -0.000608  -0.000608   \n",
              "2023-03-27 09:40:00-04:00 -0.000595  0.000876  0.001191  0.000984   0.000984   \n",
              "2023-03-27 09:41:00-04:00  0.001075  0.000875  0.001075  0.001000   0.001000   \n",
              "2023-03-27 09:42:00-04:00  0.000990  0.000750  0.000927  0.001046   0.001046   \n",
              "2023-03-27 09:43:00-04:00  0.000937  0.001123  0.000562  0.000952   0.000952   \n",
              "\n",
              "                             Volume  lag_1  lag_2  lag_3  lag_4  lag_5  lag_6  \n",
              "Datetime                                                                       \n",
              "2023-03-27 09:37:00-04:00 -0.440462    1.0   -1.0   -1.0   -1.0    1.0   -1.0  \n",
              "2023-03-27 09:38:00-04:00  0.255839   -1.0    1.0   -1.0   -1.0   -1.0    1.0  \n",
              "2023-03-27 09:39:00-04:00  0.021821    1.0   -1.0    1.0   -1.0   -1.0   -1.0  \n",
              "2023-03-27 09:40:00-04:00  0.012193   -1.0    1.0   -1.0    1.0   -1.0   -1.0  \n",
              "2023-03-27 09:41:00-04:00  0.143363    1.0   -1.0    1.0   -1.0    1.0   -1.0  \n",
              "2023-03-27 09:42:00-04:00 -0.308143    1.0    1.0   -1.0    1.0   -1.0    1.0  \n",
              "2023-03-27 09:43:00-04:00  0.147553    1.0    1.0    1.0   -1.0    1.0   -1.0  "
            ],
            "text/html": [
              "\n",
              "  <div id=\"df-f490030e-2a25-4bdf-a761-353f8f2697f2\">\n",
              "    <div class=\"colab-df-container\">\n",
              "      <div>\n",
              "<style scoped>\n",
              "    .dataframe tbody tr th:only-of-type {\n",
              "        vertical-align: middle;\n",
              "    }\n",
              "\n",
              "    .dataframe tbody tr th {\n",
              "        vertical-align: top;\n",
              "    }\n",
              "\n",
              "    .dataframe thead th {\n",
              "        text-align: right;\n",
              "    }\n",
              "</style>\n",
              "<table border=\"1\" class=\"dataframe\">\n",
              "  <thead>\n",
              "    <tr style=\"text-align: right;\">\n",
              "      <th></th>\n",
              "      <th>Open</th>\n",
              "      <th>High</th>\n",
              "      <th>Low</th>\n",
              "      <th>Close</th>\n",
              "      <th>Adj Close</th>\n",
              "      <th>Volume</th>\n",
              "      <th>lag_1</th>\n",
              "      <th>lag_2</th>\n",
              "      <th>lag_3</th>\n",
              "      <th>lag_4</th>\n",
              "      <th>lag_5</th>\n",
              "      <th>lag_6</th>\n",
              "    </tr>\n",
              "    <tr>\n",
              "      <th>Datetime</th>\n",
              "      <th></th>\n",
              "      <th></th>\n",
              "      <th></th>\n",
              "      <th></th>\n",
              "      <th></th>\n",
              "      <th></th>\n",
              "      <th></th>\n",
              "      <th></th>\n",
              "      <th></th>\n",
              "      <th></th>\n",
              "      <th></th>\n",
              "      <th></th>\n",
              "    </tr>\n",
              "  </thead>\n",
              "  <tbody>\n",
              "    <tr>\n",
              "      <th>2023-03-27 09:37:00-04:00</th>\n",
              "      <td>0.001127</td>\n",
              "      <td>0.000813</td>\n",
              "      <td>0.001128</td>\n",
              "      <td>-0.000438</td>\n",
              "      <td>-0.000438</td>\n",
              "      <td>-0.440462</td>\n",
              "      <td>1.0</td>\n",
              "      <td>-1.0</td>\n",
              "      <td>-1.0</td>\n",
              "      <td>-1.0</td>\n",
              "      <td>1.0</td>\n",
              "      <td>-1.0</td>\n",
              "    </tr>\n",
              "    <tr>\n",
              "      <th>2023-03-27 09:38:00-04:00</th>\n",
              "      <td>-0.000377</td>\n",
              "      <td>-0.000897</td>\n",
              "      <td>-0.000031</td>\n",
              "      <td>0.000313</td>\n",
              "      <td>0.000313</td>\n",
              "      <td>0.255839</td>\n",
              "      <td>-1.0</td>\n",
              "      <td>1.0</td>\n",
              "      <td>-1.0</td>\n",
              "      <td>-1.0</td>\n",
              "      <td>-1.0</td>\n",
              "      <td>1.0</td>\n",
              "    </tr>\n",
              "    <tr>\n",
              "      <th>2023-03-27 09:39:00-04:00</th>\n",
              "      <td>0.000220</td>\n",
              "      <td>-0.000229</td>\n",
              "      <td>-0.001034</td>\n",
              "      <td>-0.000608</td>\n",
              "      <td>-0.000608</td>\n",
              "      <td>0.021821</td>\n",
              "      <td>1.0</td>\n",
              "      <td>-1.0</td>\n",
              "      <td>1.0</td>\n",
              "      <td>-1.0</td>\n",
              "      <td>-1.0</td>\n",
              "      <td>-1.0</td>\n",
              "    </tr>\n",
              "    <tr>\n",
              "      <th>2023-03-27 09:40:00-04:00</th>\n",
              "      <td>-0.000595</td>\n",
              "      <td>0.000876</td>\n",
              "      <td>0.001191</td>\n",
              "      <td>0.000984</td>\n",
              "      <td>0.000984</td>\n",
              "      <td>0.012193</td>\n",
              "      <td>-1.0</td>\n",
              "      <td>1.0</td>\n",
              "      <td>-1.0</td>\n",
              "      <td>1.0</td>\n",
              "      <td>-1.0</td>\n",
              "      <td>-1.0</td>\n",
              "    </tr>\n",
              "    <tr>\n",
              "      <th>2023-03-27 09:41:00-04:00</th>\n",
              "      <td>0.001075</td>\n",
              "      <td>0.000875</td>\n",
              "      <td>0.001075</td>\n",
              "      <td>0.001000</td>\n",
              "      <td>0.001000</td>\n",
              "      <td>0.143363</td>\n",
              "      <td>1.0</td>\n",
              "      <td>-1.0</td>\n",
              "      <td>1.0</td>\n",
              "      <td>-1.0</td>\n",
              "      <td>1.0</td>\n",
              "      <td>-1.0</td>\n",
              "    </tr>\n",
              "    <tr>\n",
              "      <th>2023-03-27 09:42:00-04:00</th>\n",
              "      <td>0.000990</td>\n",
              "      <td>0.000750</td>\n",
              "      <td>0.000927</td>\n",
              "      <td>0.001046</td>\n",
              "      <td>0.001046</td>\n",
              "      <td>-0.308143</td>\n",
              "      <td>1.0</td>\n",
              "      <td>1.0</td>\n",
              "      <td>-1.0</td>\n",
              "      <td>1.0</td>\n",
              "      <td>-1.0</td>\n",
              "      <td>1.0</td>\n",
              "    </tr>\n",
              "    <tr>\n",
              "      <th>2023-03-27 09:43:00-04:00</th>\n",
              "      <td>0.000937</td>\n",
              "      <td>0.001123</td>\n",
              "      <td>0.000562</td>\n",
              "      <td>0.000952</td>\n",
              "      <td>0.000952</td>\n",
              "      <td>0.147553</td>\n",
              "      <td>1.0</td>\n",
              "      <td>1.0</td>\n",
              "      <td>1.0</td>\n",
              "      <td>-1.0</td>\n",
              "      <td>1.0</td>\n",
              "      <td>-1.0</td>\n",
              "    </tr>\n",
              "  </tbody>\n",
              "</table>\n",
              "</div>\n",
              "      <button class=\"colab-df-convert\" onclick=\"convertToInteractive('df-f490030e-2a25-4bdf-a761-353f8f2697f2')\"\n",
              "              title=\"Convert this dataframe to an interactive table.\"\n",
              "              style=\"display:none;\">\n",
              "        \n",
              "  <svg xmlns=\"http://www.w3.org/2000/svg\" height=\"24px\"viewBox=\"0 0 24 24\"\n",
              "       width=\"24px\">\n",
              "    <path d=\"M0 0h24v24H0V0z\" fill=\"none\"/>\n",
              "    <path d=\"M18.56 5.44l.94 2.06.94-2.06 2.06-.94-2.06-.94-.94-2.06-.94 2.06-2.06.94zm-11 1L8.5 8.5l.94-2.06 2.06-.94-2.06-.94L8.5 2.5l-.94 2.06-2.06.94zm10 10l.94 2.06.94-2.06 2.06-.94-2.06-.94-.94-2.06-.94 2.06-2.06.94z\"/><path d=\"M17.41 7.96l-1.37-1.37c-.4-.4-.92-.59-1.43-.59-.52 0-1.04.2-1.43.59L10.3 9.45l-7.72 7.72c-.78.78-.78 2.05 0 2.83L4 21.41c.39.39.9.59 1.41.59.51 0 1.02-.2 1.41-.59l7.78-7.78 2.81-2.81c.8-.78.8-2.07 0-2.86zM5.41 20L4 18.59l7.72-7.72 1.47 1.35L5.41 20z\"/>\n",
              "  </svg>\n",
              "      </button>\n",
              "      \n",
              "  <style>\n",
              "    .colab-df-container {\n",
              "      display:flex;\n",
              "      flex-wrap:wrap;\n",
              "      gap: 12px;\n",
              "    }\n",
              "\n",
              "    .colab-df-convert {\n",
              "      background-color: #E8F0FE;\n",
              "      border: none;\n",
              "      border-radius: 50%;\n",
              "      cursor: pointer;\n",
              "      display: none;\n",
              "      fill: #1967D2;\n",
              "      height: 32px;\n",
              "      padding: 0 0 0 0;\n",
              "      width: 32px;\n",
              "    }\n",
              "\n",
              "    .colab-df-convert:hover {\n",
              "      background-color: #E2EBFA;\n",
              "      box-shadow: 0px 1px 2px rgba(60, 64, 67, 0.3), 0px 1px 3px 1px rgba(60, 64, 67, 0.15);\n",
              "      fill: #174EA6;\n",
              "    }\n",
              "\n",
              "    [theme=dark] .colab-df-convert {\n",
              "      background-color: #3B4455;\n",
              "      fill: #D2E3FC;\n",
              "    }\n",
              "\n",
              "    [theme=dark] .colab-df-convert:hover {\n",
              "      background-color: #434B5C;\n",
              "      box-shadow: 0px 1px 3px 1px rgba(0, 0, 0, 0.15);\n",
              "      filter: drop-shadow(0px 1px 2px rgba(0, 0, 0, 0.3));\n",
              "      fill: #FFFFFF;\n",
              "    }\n",
              "  </style>\n",
              "\n",
              "      <script>\n",
              "        const buttonEl =\n",
              "          document.querySelector('#df-f490030e-2a25-4bdf-a761-353f8f2697f2 button.colab-df-convert');\n",
              "        buttonEl.style.display =\n",
              "          google.colab.kernel.accessAllowed ? 'block' : 'none';\n",
              "\n",
              "        async function convertToInteractive(key) {\n",
              "          const element = document.querySelector('#df-f490030e-2a25-4bdf-a761-353f8f2697f2');\n",
              "          const dataTable =\n",
              "            await google.colab.kernel.invokeFunction('convertToInteractive',\n",
              "                                                     [key], {});\n",
              "          if (!dataTable) return;\n",
              "\n",
              "          const docLinkHtml = 'Like what you see? Visit the ' +\n",
              "            '<a target=\"_blank\" href=https://colab.research.google.com/notebooks/data_table.ipynb>data table notebook</a>'\n",
              "            + ' to learn more about interactive tables.';\n",
              "          element.innerHTML = '';\n",
              "          dataTable['output_type'] = 'display_data';\n",
              "          await google.colab.output.renderOutput(dataTable, element);\n",
              "          const docLink = document.createElement('div');\n",
              "          docLink.innerHTML = docLinkHtml;\n",
              "          element.appendChild(docLink);\n",
              "        }\n",
              "      </script>\n",
              "    </div>\n",
              "  </div>\n",
              "  "
            ]
          },
          "metadata": {},
          "execution_count": 190
        }
      ]
    },
    {
      "cell_type": "markdown",
      "source": [
        "## SVM learning implementation"
      ],
      "metadata": {
        "id": "xF1CQ1ro6V5k"
      }
    },
    {
      "cell_type": "code",
      "source": [
        "from sklearn.svm import SVC\n",
        "from sklearn.model_selection import train_test_split"
      ],
      "metadata": {
        "id": "CXXG162j6hgs"
      },
      "execution_count": 191,
      "outputs": []
    },
    {
      "cell_type": "code",
      "source": [
        "model = SVC(gamma='auto')"
      ],
      "metadata": {
        "id": "OTaVNU6l6nwc"
      },
      "execution_count": 192,
      "outputs": []
    },
    {
      "cell_type": "code",
      "source": [
        "model.fit(rets[cols],np.sign(rets['Close']))"
      ],
      "metadata": {
        "colab": {
          "base_uri": "https://localhost:8080/",
          "height": 74
        },
        "id": "SKSuEi8d6rG8",
        "outputId": "e2137957-f52b-4a49-ef12-42e4d9a2b308"
      },
      "execution_count": 193,
      "outputs": [
        {
          "output_type": "execute_result",
          "data": {
            "text/plain": [
              "SVC(gamma='auto')"
            ],
            "text/html": [
              "<style>#sk-container-id-7 {color: black;background-color: white;}#sk-container-id-7 pre{padding: 0;}#sk-container-id-7 div.sk-toggleable {background-color: white;}#sk-container-id-7 label.sk-toggleable__label {cursor: pointer;display: block;width: 100%;margin-bottom: 0;padding: 0.3em;box-sizing: border-box;text-align: center;}#sk-container-id-7 label.sk-toggleable__label-arrow:before {content: \"▸\";float: left;margin-right: 0.25em;color: #696969;}#sk-container-id-7 label.sk-toggleable__label-arrow:hover:before {color: black;}#sk-container-id-7 div.sk-estimator:hover label.sk-toggleable__label-arrow:before {color: black;}#sk-container-id-7 div.sk-toggleable__content {max-height: 0;max-width: 0;overflow: hidden;text-align: left;background-color: #f0f8ff;}#sk-container-id-7 div.sk-toggleable__content pre {margin: 0.2em;color: black;border-radius: 0.25em;background-color: #f0f8ff;}#sk-container-id-7 input.sk-toggleable__control:checked~div.sk-toggleable__content {max-height: 200px;max-width: 100%;overflow: auto;}#sk-container-id-7 input.sk-toggleable__control:checked~label.sk-toggleable__label-arrow:before {content: \"▾\";}#sk-container-id-7 div.sk-estimator input.sk-toggleable__control:checked~label.sk-toggleable__label {background-color: #d4ebff;}#sk-container-id-7 div.sk-label input.sk-toggleable__control:checked~label.sk-toggleable__label {background-color: #d4ebff;}#sk-container-id-7 input.sk-hidden--visually {border: 0;clip: rect(1px 1px 1px 1px);clip: rect(1px, 1px, 1px, 1px);height: 1px;margin: -1px;overflow: hidden;padding: 0;position: absolute;width: 1px;}#sk-container-id-7 div.sk-estimator {font-family: monospace;background-color: #f0f8ff;border: 1px dotted black;border-radius: 0.25em;box-sizing: border-box;margin-bottom: 0.5em;}#sk-container-id-7 div.sk-estimator:hover {background-color: #d4ebff;}#sk-container-id-7 div.sk-parallel-item::after {content: \"\";width: 100%;border-bottom: 1px solid gray;flex-grow: 1;}#sk-container-id-7 div.sk-label:hover label.sk-toggleable__label {background-color: #d4ebff;}#sk-container-id-7 div.sk-serial::before {content: \"\";position: absolute;border-left: 1px solid gray;box-sizing: border-box;top: 0;bottom: 0;left: 50%;z-index: 0;}#sk-container-id-7 div.sk-serial {display: flex;flex-direction: column;align-items: center;background-color: white;padding-right: 0.2em;padding-left: 0.2em;position: relative;}#sk-container-id-7 div.sk-item {position: relative;z-index: 1;}#sk-container-id-7 div.sk-parallel {display: flex;align-items: stretch;justify-content: center;background-color: white;position: relative;}#sk-container-id-7 div.sk-item::before, #sk-container-id-7 div.sk-parallel-item::before {content: \"\";position: absolute;border-left: 1px solid gray;box-sizing: border-box;top: 0;bottom: 0;left: 50%;z-index: -1;}#sk-container-id-7 div.sk-parallel-item {display: flex;flex-direction: column;z-index: 1;position: relative;background-color: white;}#sk-container-id-7 div.sk-parallel-item:first-child::after {align-self: flex-end;width: 50%;}#sk-container-id-7 div.sk-parallel-item:last-child::after {align-self: flex-start;width: 50%;}#sk-container-id-7 div.sk-parallel-item:only-child::after {width: 0;}#sk-container-id-7 div.sk-dashed-wrapped {border: 1px dashed gray;margin: 0 0.4em 0.5em 0.4em;box-sizing: border-box;padding-bottom: 0.4em;background-color: white;}#sk-container-id-7 div.sk-label label {font-family: monospace;font-weight: bold;display: inline-block;line-height: 1.2em;}#sk-container-id-7 div.sk-label-container {text-align: center;}#sk-container-id-7 div.sk-container {/* jupyter's `normalize.less` sets `[hidden] { display: none; }` but bootstrap.min.css set `[hidden] { display: none !important; }` so we also need the `!important` here to be able to override the default hidden behavior on the sphinx rendered scikit-learn.org. See: https://github.com/scikit-learn/scikit-learn/issues/21755 */display: inline-block !important;position: relative;}#sk-container-id-7 div.sk-text-repr-fallback {display: none;}</style><div id=\"sk-container-id-7\" class=\"sk-top-container\"><div class=\"sk-text-repr-fallback\"><pre>SVC(gamma=&#x27;auto&#x27;)</pre><b>In a Jupyter environment, please rerun this cell to show the HTML representation or trust the notebook. <br />On GitHub, the HTML representation is unable to render, please try loading this page with nbviewer.org.</b></div><div class=\"sk-container\" hidden><div class=\"sk-item\"><div class=\"sk-estimator sk-toggleable\"><input class=\"sk-toggleable__control sk-hidden--visually\" id=\"sk-estimator-id-7\" type=\"checkbox\" checked><label for=\"sk-estimator-id-7\" class=\"sk-toggleable__label sk-toggleable__label-arrow\">SVC</label><div class=\"sk-toggleable__content\"><pre>SVC(gamma=&#x27;auto&#x27;)</pre></div></div></div></div></div>"
            ]
          },
          "metadata": {},
          "execution_count": 193
        }
      ]
    },
    {
      "cell_type": "code",
      "source": [
        "SVC(C=1.0, cache_size=200, class_weight=None, coef0=0.0,\n",
        "    decision_function_shape='ovr', degree=3, gamma='auto', kernel= 'rbf',\n",
        "    max_iter=-1, probability=False, random_state=None, shrinking=True,\n",
        "    tol=0.001, verbose=False)"
      ],
      "metadata": {
        "colab": {
          "base_uri": "https://localhost:8080/",
          "height": 74
        },
        "id": "2WQfg7xp7Flk",
        "outputId": "399a4fb6-b0a1-4849-a46b-e31ad9649178"
      },
      "execution_count": 194,
      "outputs": [
        {
          "output_type": "execute_result",
          "data": {
            "text/plain": [
              "SVC(gamma='auto')"
            ],
            "text/html": [
              "<style>#sk-container-id-8 {color: black;background-color: white;}#sk-container-id-8 pre{padding: 0;}#sk-container-id-8 div.sk-toggleable {background-color: white;}#sk-container-id-8 label.sk-toggleable__label {cursor: pointer;display: block;width: 100%;margin-bottom: 0;padding: 0.3em;box-sizing: border-box;text-align: center;}#sk-container-id-8 label.sk-toggleable__label-arrow:before {content: \"▸\";float: left;margin-right: 0.25em;color: #696969;}#sk-container-id-8 label.sk-toggleable__label-arrow:hover:before {color: black;}#sk-container-id-8 div.sk-estimator:hover label.sk-toggleable__label-arrow:before {color: black;}#sk-container-id-8 div.sk-toggleable__content {max-height: 0;max-width: 0;overflow: hidden;text-align: left;background-color: #f0f8ff;}#sk-container-id-8 div.sk-toggleable__content pre {margin: 0.2em;color: black;border-radius: 0.25em;background-color: #f0f8ff;}#sk-container-id-8 input.sk-toggleable__control:checked~div.sk-toggleable__content {max-height: 200px;max-width: 100%;overflow: auto;}#sk-container-id-8 input.sk-toggleable__control:checked~label.sk-toggleable__label-arrow:before {content: \"▾\";}#sk-container-id-8 div.sk-estimator input.sk-toggleable__control:checked~label.sk-toggleable__label {background-color: #d4ebff;}#sk-container-id-8 div.sk-label input.sk-toggleable__control:checked~label.sk-toggleable__label {background-color: #d4ebff;}#sk-container-id-8 input.sk-hidden--visually {border: 0;clip: rect(1px 1px 1px 1px);clip: rect(1px, 1px, 1px, 1px);height: 1px;margin: -1px;overflow: hidden;padding: 0;position: absolute;width: 1px;}#sk-container-id-8 div.sk-estimator {font-family: monospace;background-color: #f0f8ff;border: 1px dotted black;border-radius: 0.25em;box-sizing: border-box;margin-bottom: 0.5em;}#sk-container-id-8 div.sk-estimator:hover {background-color: #d4ebff;}#sk-container-id-8 div.sk-parallel-item::after {content: \"\";width: 100%;border-bottom: 1px solid gray;flex-grow: 1;}#sk-container-id-8 div.sk-label:hover label.sk-toggleable__label {background-color: #d4ebff;}#sk-container-id-8 div.sk-serial::before {content: \"\";position: absolute;border-left: 1px solid gray;box-sizing: border-box;top: 0;bottom: 0;left: 50%;z-index: 0;}#sk-container-id-8 div.sk-serial {display: flex;flex-direction: column;align-items: center;background-color: white;padding-right: 0.2em;padding-left: 0.2em;position: relative;}#sk-container-id-8 div.sk-item {position: relative;z-index: 1;}#sk-container-id-8 div.sk-parallel {display: flex;align-items: stretch;justify-content: center;background-color: white;position: relative;}#sk-container-id-8 div.sk-item::before, #sk-container-id-8 div.sk-parallel-item::before {content: \"\";position: absolute;border-left: 1px solid gray;box-sizing: border-box;top: 0;bottom: 0;left: 50%;z-index: -1;}#sk-container-id-8 div.sk-parallel-item {display: flex;flex-direction: column;z-index: 1;position: relative;background-color: white;}#sk-container-id-8 div.sk-parallel-item:first-child::after {align-self: flex-end;width: 50%;}#sk-container-id-8 div.sk-parallel-item:last-child::after {align-self: flex-start;width: 50%;}#sk-container-id-8 div.sk-parallel-item:only-child::after {width: 0;}#sk-container-id-8 div.sk-dashed-wrapped {border: 1px dashed gray;margin: 0 0.4em 0.5em 0.4em;box-sizing: border-box;padding-bottom: 0.4em;background-color: white;}#sk-container-id-8 div.sk-label label {font-family: monospace;font-weight: bold;display: inline-block;line-height: 1.2em;}#sk-container-id-8 div.sk-label-container {text-align: center;}#sk-container-id-8 div.sk-container {/* jupyter's `normalize.less` sets `[hidden] { display: none; }` but bootstrap.min.css set `[hidden] { display: none !important; }` so we also need the `!important` here to be able to override the default hidden behavior on the sphinx rendered scikit-learn.org. See: https://github.com/scikit-learn/scikit-learn/issues/21755 */display: inline-block !important;position: relative;}#sk-container-id-8 div.sk-text-repr-fallback {display: none;}</style><div id=\"sk-container-id-8\" class=\"sk-top-container\"><div class=\"sk-text-repr-fallback\"><pre>SVC(gamma=&#x27;auto&#x27;)</pre><b>In a Jupyter environment, please rerun this cell to show the HTML representation or trust the notebook. <br />On GitHub, the HTML representation is unable to render, please try loading this page with nbviewer.org.</b></div><div class=\"sk-container\" hidden><div class=\"sk-item\"><div class=\"sk-estimator sk-toggleable\"><input class=\"sk-toggleable__control sk-hidden--visually\" id=\"sk-estimator-id-8\" type=\"checkbox\" checked><label for=\"sk-estimator-id-8\" class=\"sk-toggleable__label sk-toggleable__label-arrow\">SVC</label><div class=\"sk-toggleable__content\"><pre>SVC(gamma=&#x27;auto&#x27;)</pre></div></div></div></div></div>"
            ]
          },
          "metadata": {},
          "execution_count": 194
        }
      ]
    },
    {
      "cell_type": "code",
      "source": [
        "rets['Prediction'] = model.predict(rets[cols])"
      ],
      "metadata": {
        "id": "YHKpgshL7jUk"
      },
      "execution_count": 195,
      "outputs": []
    },
    {
      "cell_type": "code",
      "source": [
        "rets['Strategy'] = rets['Prediction'] * rets['Close']"
      ],
      "metadata": {
        "id": "WrFh0DRY7qUF"
      },
      "execution_count": 196,
      "outputs": []
    },
    {
      "cell_type": "markdown",
      "source": [
        "This is without splitting the data."
      ],
      "metadata": {
        "id": "pUVUYzppD9Ok"
      }
    },
    {
      "cell_type": "code",
      "source": [
        "rets[['Close', 'Strategy']].cumsum().apply(np.exp).plot(figsize=(10,6));\n",
        "plt.legend(labels = ['Returns', 'Strategy'], loc = \"upper left\", fontsize = 15)\n",
        "plt.show()"
      ],
      "metadata": {
        "colab": {
          "base_uri": "https://localhost:8080/",
          "height": 513
        },
        "id": "jyCqLb7c71BT",
        "outputId": "1f4aa12a-d53f-499f-d8f4-b6ef5c9af023"
      },
      "execution_count": 197,
      "outputs": [
        {
          "output_type": "display_data",
          "data": {
            "text/plain": [
              "<Figure size 1000x600 with 1 Axes>"
            ],
            "image/png": "[encoded data removed]"
          },
          "metadata": {}
        }
      ]
    },
    {
      "cell_type": "markdown",
      "source": [
        "Splitting the data:"
      ],
      "metadata": {
        "id": "WILTz_RZBXUI"
      }
    },
    {
      "cell_type": "code",
      "source": [
        "cols"
      ],
      "metadata": {
        "colab": {
          "base_uri": "https://localhost:8080/"
        },
        "id": "9IX9LK_yBk1G",
        "outputId": "9bb98a80-1592-4a5d-8fdd-17b8a64493bb"
      },
      "execution_count": 198,
      "outputs": [
        {
          "output_type": "execute_result",
          "data": {
            "text/plain": [
              "['lag_1', 'lag_2', 'lag_3', 'lag_4', 'lag_5', 'lag_6']"
            ]
          },
          "metadata": {},
          "execution_count": 198
        }
      ]
    },
    {
      "cell_type": "code",
      "source": [
        "rets[col]"
      ],
      "metadata": {
        "colab": {
          "base_uri": "https://localhost:8080/"
        },
        "id": "xd_et34XBrhx",
        "outputId": "e96cd3a8-dd18-40b8-a960-1fa63e5c3e45"
      },
      "execution_count": 199,
      "outputs": [
        {
          "output_type": "execute_result",
          "data": {
            "text/plain": [
              "Datetime\n",
              "2023-03-27 09:37:00-04:00   -1.0\n",
              "2023-03-27 09:38:00-04:00    1.0\n",
              "2023-03-27 09:39:00-04:00   -1.0\n",
              "2023-03-27 09:40:00-04:00   -1.0\n",
              "2023-03-27 09:41:00-04:00   -1.0\n",
              "                            ... \n",
              "2023-03-31 15:55:00-04:00   -1.0\n",
              "2023-03-31 15:56:00-04:00    1.0\n",
              "2023-03-31 15:57:00-04:00   -1.0\n",
              "2023-03-31 15:58:00-04:00    1.0\n",
              "2023-03-31 15:59:00-04:00    1.0\n",
              "Name: lag_6, Length: 1941, dtype: float64"
            ]
          },
          "metadata": {},
          "execution_count": 199
        }
      ]
    },
    {
      "cell_type": "code",
      "source": [
        "model = SVC(C=100)\n",
        "ret = rets['Close'].copy()"
      ],
      "metadata": {
        "id": "zipPTgp0CjAO"
      },
      "execution_count": 200,
      "outputs": []
    },
    {
      "cell_type": "code",
      "source": [
        "ret_col = rets[cols].copy()"
      ],
      "metadata": {
        "id": "bdvOYuQVghsR"
      },
      "execution_count": 201,
      "outputs": []
    },
    {
      "cell_type": "code",
      "source": [
        "model.fit(ret_col, np.sign(ret))\n",
        "rets['position'] = model.predict(ret_col)\n",
        "#rets['position'].values[:12]"
      ],
      "metadata": {
        "id": "Ug5aCYKagTZR"
      },
      "execution_count": 202,
      "outputs": []
    },
    {
      "cell_type": "code",
      "source": [
        " print('{:10} | {}'.format('AAPL', rets['position'].values[:12]))"
      ],
      "metadata": {
        "colab": {
          "base_uri": "https://localhost:8080/"
        },
        "id": "_tS8nj_dDDmG",
        "outputId": "1e3b6f6a-8456-471f-c9bb-61c50e259499"
      },
      "execution_count": 203,
      "outputs": [
        {
          "output_type": "stream",
          "name": "stdout",
          "text": [
            "AAPL       | [ 1.  1. -1.  1.  1.  1.  1.  1. -1. -1. -1.  1.]\n"
          ]
        }
      ]
    },
    {
      "cell_type": "markdown",
      "source": [
        "Vectorized Backtesting:"
      ],
      "metadata": {
        "id": "kpbr-bTfihuP"
      }
    },
    {
      "cell_type": "markdown",
      "source": [
        "Backtest the performance of the ML-based trading stregies. First, the strategy returns."
      ],
      "metadata": {
        "id": "D-UimxMWkjE4"
      }
    },
    {
      "cell_type": "code",
      "source": [
        "#rets['Close']['Close']"
      ],
      "metadata": {
        "id": "hlnQNE1DjZK3"
      },
      "execution_count": 204,
      "outputs": []
    },
    {
      "cell_type": "code",
      "source": [
        "rets['strategy'] = rets['position'] * rets['Close']"
      ],
      "metadata": {
        "id": "QUNRFJlfisio"
      },
      "execution_count": 205,
      "outputs": []
    },
    {
      "cell_type": "code",
      "source": [
        "rets[['Close', 'strategy']].cumsum().apply(np.exp).plot(figsize=(10,6));\n",
        "plt.legend(labels = ['Returns', 'Strategy'], loc = \"upper left\", fontsize = 15)\n",
        "plt.show()"
      ],
      "metadata": {
        "colab": {
          "base_uri": "https://localhost:8080/",
          "height": 513
        },
        "id": "xAKq5KiTmNTc",
        "outputId": "f578acf2-1fa2-4df0-c505-c29c7d243752"
      },
      "execution_count": 206,
      "outputs": [
        {
          "output_type": "display_data",
          "data": {
            "text/plain": [
              "<Figure size 1000x600 with 1 Axes>"
            ],
            "image/png": "[encoded data removed]"
          },
          "metadata": {}
        }
      ]
    },
    {
      "cell_type": "markdown",
      "source": [
        "Train Test Split:"
      ],
      "metadata": {
        "id": "faDUffB8m3kr"
      }
    },
    {
      "cell_type": "markdown",
      "source": [
        "Random train test split to implement out-of-sample backtesting."
      ],
      "metadata": {
        "id": "m0y2CQiynBMG"
      }
    },
    {
      "cell_type": "code",
      "source": [
        "res = {}\n",
        "model = SVC(C=100)\n",
        "ret = rets['Close'].copy()\n",
        "ret_col = rets[cols]\n",
        "mu = ret.mean()\n",
        "v = ret.std()\n",
        "bins = [mu - v, mu, mu + v]\n",
        "# bins = [0]\n",
        "train_x, test_x, train_y, test_y = train_test_split(\n",
        "    ret_col.apply(lambda x: np.digitize(x, bins=bins)),\n",
        "    np.sign(ret), test_size=0.2, random_state=111)\n",
        "train_x.sort_index(inplace=True)\n",
        "train_y.sort_index(inplace=True)\n",
        "test_x.sort_index(inplace=True)\n",
        "test_y.sort_index(inplace=True)\n",
        "model.fit(train_x, train_y)  # model fitting\n",
        "pred = model.predict(test_x)  # prediction\n",
        "strat = pred * ret[test_y.index]\n",
        "res = pd.DataFrame({'AAPL': ret[test_y.index],\n",
        "                             'pred': pred,\n",
        "                             'strategy': strat})"
      ],
      "metadata": {
        "id": "HfiRbiY0m9J9"
      },
      "execution_count": 210,
      "outputs": []
    },
    {
      "cell_type": "code",
      "source": [
        "res.head()"
      ],
      "metadata": {
        "colab": {
          "base_uri": "https://localhost:8080/",
          "height": 237
        },
        "id": "RfMuVP_MoLGr",
        "outputId": "250891cf-8e71-44e9-9c7a-7edb9f978007"
      },
      "execution_count": 211,
      "outputs": [
        {
          "output_type": "execute_result",
          "data": {
            "text/plain": [
              "                               AAPL  pred  strategy\n",
              "Datetime                                           \n",
              "2023-03-27 09:37:00-04:00 -0.000438   1.0 -0.000438\n",
              "2023-03-27 09:49:00-04:00 -0.000237  -1.0  0.000237\n",
              "2023-03-27 09:55:00-04:00  0.000251   1.0  0.000251\n",
              "2023-03-27 09:56:00-04:00 -0.000002  -1.0  0.000002\n",
              "2023-03-27 10:04:00-04:00  0.000623  -1.0 -0.000623"
            ],
            "text/html": [
              "\n",
              "  <div id=\"df-a7bb88d4-bb34-4009-839a-367cf782a4b2\">\n",
              "    <div class=\"colab-df-container\">\n",
              "      <div>\n",
              "<style scoped>\n",
              "    .dataframe tbody tr th:only-of-type {\n",
              "        vertical-align: middle;\n",
              "    }\n",
              "\n",
              "    .dataframe tbody tr th {\n",
              "        vertical-align: top;\n",
              "    }\n",
              "\n",
              "    .dataframe thead th {\n",
              "        text-align: right;\n",
              "    }\n",
              "</style>\n",
              "<table border=\"1\" class=\"dataframe\">\n",
              "  <thead>\n",
              "    <tr style=\"text-align: right;\">\n",
              "      <th></th>\n",
              "      <th>AAPL</th>\n",
              "      <th>pred</th>\n",
              "      <th>strategy</th>\n",
              "    </tr>\n",
              "    <tr>\n",
              "      <th>Datetime</th>\n",
              "      <th></th>\n",
              "      <th></th>\n",
              "      <th></th>\n",
              "    </tr>\n",
              "  </thead>\n",
              "  <tbody>\n",
              "    <tr>\n",
              "      <th>2023-03-27 09:37:00-04:00</th>\n",
              "      <td>-0.000438</td>\n",
              "      <td>1.0</td>\n",
              "      <td>-0.000438</td>\n",
              "    </tr>\n",
              "    <tr>\n",
              "      <th>2023-03-27 09:49:00-04:00</th>\n",
              "      <td>-0.000237</td>\n",
              "      <td>-1.0</td>\n",
              "      <td>0.000237</td>\n",
              "    </tr>\n",
              "    <tr>\n",
              "      <th>2023-03-27 09:55:00-04:00</th>\n",
              "      <td>0.000251</td>\n",
              "      <td>1.0</td>\n",
              "      <td>0.000251</td>\n",
              "    </tr>\n",
              "    <tr>\n",
              "      <th>2023-03-27 09:56:00-04:00</th>\n",
              "      <td>-0.000002</td>\n",
              "      <td>-1.0</td>\n",
              "      <td>0.000002</td>\n",
              "    </tr>\n",
              "    <tr>\n",
              "      <th>2023-03-27 10:04:00-04:00</th>\n",
              "      <td>0.000623</td>\n",
              "      <td>-1.0</td>\n",
              "      <td>-0.000623</td>\n",
              "    </tr>\n",
              "  </tbody>\n",
              "</table>\n",
              "</div>\n",
              "      <button class=\"colab-df-convert\" onclick=\"convertToInteractive('df-a7bb88d4-bb34-4009-839a-367cf782a4b2')\"\n",
              "              title=\"Convert this dataframe to an interactive table.\"\n",
              "              style=\"display:none;\">\n",
              "        \n",
              "  <svg xmlns=\"http://www.w3.org/2000/svg\" height=\"24px\"viewBox=\"0 0 24 24\"\n",
              "       width=\"24px\">\n",
              "    <path d=\"M0 0h24v24H0V0z\" fill=\"none\"/>\n",
              "    <path d=\"M18.56 5.44l.94 2.06.94-2.06 2.06-.94-2.06-.94-.94-2.06-.94 2.06-2.06.94zm-11 1L8.5 8.5l.94-2.06 2.06-.94-2.06-.94L8.5 2.5l-.94 2.06-2.06.94zm10 10l.94 2.06.94-2.06 2.06-.94-2.06-.94-.94-2.06-.94 2.06-2.06.94z\"/><path d=\"M17.41 7.96l-1.37-1.37c-.4-.4-.92-.59-1.43-.59-.52 0-1.04.2-1.43.59L10.3 9.45l-7.72 7.72c-.78.78-.78 2.05 0 2.83L4 21.41c.39.39.9.59 1.41.59.51 0 1.02-.2 1.41-.59l7.78-7.78 2.81-2.81c.8-.78.8-2.07 0-2.86zM5.41 20L4 18.59l7.72-7.72 1.47 1.35L5.41 20z\"/>\n",
              "  </svg>\n",
              "      </button>\n",
              "      \n",
              "  <style>\n",
              "    .colab-df-container {\n",
              "      display:flex;\n",
              "      flex-wrap:wrap;\n",
              "      gap: 12px;\n",
              "    }\n",
              "\n",
              "    .colab-df-convert {\n",
              "      background-color: #E8F0FE;\n",
              "      border: none;\n",
              "      border-radius: 50%;\n",
              "      cursor: pointer;\n",
              "      display: none;\n",
              "      fill: #1967D2;\n",
              "      height: 32px;\n",
              "      padding: 0 0 0 0;\n",
              "      width: 32px;\n",
              "    }\n",
              "\n",
              "    .colab-df-convert:hover {\n",
              "      background-color: #E2EBFA;\n",
              "      box-shadow: 0px 1px 2px rgba(60, 64, 67, 0.3), 0px 1px 3px 1px rgba(60, 64, 67, 0.15);\n",
              "      fill: #174EA6;\n",
              "    }\n",
              "\n",
              "    [theme=dark] .colab-df-convert {\n",
              "      background-color: #3B4455;\n",
              "      fill: #D2E3FC;\n",
              "    }\n",
              "\n",
              "    [theme=dark] .colab-df-convert:hover {\n",
              "      background-color: #434B5C;\n",
              "      box-shadow: 0px 1px 3px 1px rgba(0, 0, 0, 0.15);\n",
              "      filter: drop-shadow(0px 1px 2px rgba(0, 0, 0, 0.3));\n",
              "      fill: #FFFFFF;\n",
              "    }\n",
              "  </style>\n",
              "\n",
              "      <script>\n",
              "        const buttonEl =\n",
              "          document.querySelector('#df-a7bb88d4-bb34-4009-839a-367cf782a4b2 button.colab-df-convert');\n",
              "        buttonEl.style.display =\n",
              "          google.colab.kernel.accessAllowed ? 'block' : 'none';\n",
              "\n",
              "        async function convertToInteractive(key) {\n",
              "          const element = document.querySelector('#df-a7bb88d4-bb34-4009-839a-367cf782a4b2');\n",
              "          const dataTable =\n",
              "            await google.colab.kernel.invokeFunction('convertToInteractive',\n",
              "                                                     [key], {});\n",
              "          if (!dataTable) return;\n",
              "\n",
              "          const docLinkHtml = 'Like what you see? Visit the ' +\n",
              "            '<a target=\"_blank\" href=https://colab.research.google.com/notebooks/data_table.ipynb>data table notebook</a>'\n",
              "            + ' to learn more about interactive tables.';\n",
              "          element.innerHTML = '';\n",
              "          dataTable['output_type'] = 'display_data';\n",
              "          await google.colab.output.renderOutput(dataTable, element);\n",
              "          const docLink = document.createElement('div');\n",
              "          docLink.innerHTML = docLinkHtml;\n",
              "          element.appendChild(docLink);\n",
              "        }\n",
              "      </script>\n",
              "    </div>\n",
              "  </div>\n",
              "  "
            ]
          },
          "metadata": {},
          "execution_count": 211
        }
      ]
    },
    {
      "cell_type": "code",
      "source": [
        "res[['AAPL', 'strategy']].cumsum().apply(np.exp).plot(figsize=(10,6));\n",
        "plt.show()"
      ],
      "metadata": {
        "colab": {
          "base_uri": "https://localhost:8080/",
          "height": 513
        },
        "id": "QCLj0G3GoPTq",
        "outputId": "e6c0b13b-e8de-4379-e492-7ee6186fa628"
      },
      "execution_count": 212,
      "outputs": [
        {
          "output_type": "display_data",
          "data": {
            "text/plain": [
              "<Figure size 1000x600 with 1 Axes>"
            ],
            "image/png": "[encoded data removed]"
          },
          "metadata": {}
        }
      ]
    }
  ]
}
